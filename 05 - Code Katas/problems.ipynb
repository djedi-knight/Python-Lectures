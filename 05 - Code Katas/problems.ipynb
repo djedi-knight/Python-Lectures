{
 "cells": [
  {
   "cell_type": "markdown",
   "metadata": {},
   "source": [
    "# Code Katas\n",
    "Keep your skills sharp by implementing fundamental (and sometimes tricky) algorithms and data structures over and over again."
   ]
  },
  {
   "cell_type": "markdown",
   "metadata": {},
   "source": [
    "## White Belt\n",
    "*Easy peasy lemon squeezy*"
   ]
  },
  {
   "cell_type": "markdown",
   "metadata": {},
   "source": [
    "### Palindrome String\n",
    "Check if input string is a palindrome. Try to only use constant extra space."
   ]
  },
  {
   "cell_type": "code",
   "execution_count": null,
   "metadata": {},
   "outputs": [],
   "source": [
    "def palindrome(string):\n",
    "    \"\"\"Check if input string (all lower-case characters) is a palindrome.\"\"\"\n",
    "    # your code here\n",
    "    \n",
    "assert palindrome('') == True\n",
    "assert palindrome('a') == True\n",
    "assert palindrome('ab') == False\n",
    "assert palindrome('abba') == True\n",
    "assert palindrome('redivider') == True\n",
    "print('All passed!')"
   ]
  },
  {
   "cell_type": "markdown",
   "metadata": {},
   "source": [
    "### Merge Sorted\n",
    "Merge two lists sorted in descending order. Result should also be sorted in descending order."
   ]
  },
  {
   "cell_type": "code",
   "execution_count": null,
   "metadata": {},
   "outputs": [],
   "source": [
    "def merge(a, b):\n",
    "    \"\"\"Merge two lists sorted in descending order.\"\"\"\n",
    "    # your code here\n",
    "\n",
    "assert merge([], []) == []\n",
    "assert merge([1], [0]) == [1,0]\n",
    "assert merge([7,5,1], [2]) == [7,5,2,1]\n",
    "print('All passed!')"
   ]
  },
  {
   "cell_type": "markdown",
   "metadata": {},
   "source": [
    "### Length of Last Word\n",
    "Given a string of words separated by spaces, return length of last word. Think of an efficient way to do it for a string with millions of words in it."
   ]
  },
  {
   "cell_type": "code",
   "execution_count": null,
   "metadata": {},
   "outputs": [],
   "source": [
    "def last_word_length(text):\n",
    "    \"\"\"Given a string of words separated by spaced, return length of last word.\"\"\"\n",
    "    # your code here\n",
    "\n",
    "assert last_word_length('') == 0\n",
    "assert last_word_length('last   ') == 4\n",
    "assert last_word_length('string  of  words') == 5\n",
    "print('All passed!')"
   ]
  },
  {
   "cell_type": "markdown",
   "metadata": {},
   "source": [
    "## Yellow Belt\n",
    "*Requires a certain level of problem solving and coding skills*\n",
    "### Binary search\n",
    "Let's start with binary search. Implement find_in_sorted function that looks for number *target* in a sorted array *nums*. Remember, it has to run in O(logN) time."
   ]
  },
  {
   "cell_type": "code",
   "execution_count": null,
   "metadata": {},
   "outputs": [],
   "source": [
    "def find_in_sorted(nums, target):\n",
    "    \"\"\"Binary search.\"\"\"\n",
    "    # your code here\n",
    "\n",
    "assert find_in_sorted([], 0) == -1\n",
    "assert find_in_sorted([1,2,3], 0) == -1\n",
    "assert find_in_sorted([1,2,3], 2) == 1\n",
    "assert find_in_sorted([1,2,2,2,2,2,3], 2) in range(1, 6)\n",
    "assert find_in_sorted([1,2,3,4,6,7,8,12,13,16], 12) == 7\n",
    "print('All passed!')"
   ]
  },
  {
   "cell_type": "markdown",
   "metadata": {},
   "source": [
    "### Simplify Unix-style file path."
   ]
  },
  {
   "cell_type": "code",
   "execution_count": null,
   "metadata": {},
   "outputs": [],
   "source": [
    "def simplify_path(path):\n",
    "    \"\"\"Simplify Unix-style file path.\"\"\"\n",
    "    # your code here\n",
    "\n",
    "assert simplify_path('/') == '/'\n",
    "assert simplify_path('/../') == '/'\n",
    "assert simplify_path('/...') == '/...'\n",
    "assert simplify_path('/.../') == '/...'\n",
    "assert simplify_path('/foo/..') == '/'\n",
    "assert simplify_path('/foo///.//bar//') == '/foo/bar'\n",
    "print('All passed!')"
   ]
  },
  {
   "cell_type": "markdown",
   "metadata": {},
   "source": [
    "### Create Maximum Number\n",
    "Given a number with n digits represented as a string, find maximum number with k digits, 0<k<n. Output result as a string."
   ]
  },
  {
   "cell_type": "code",
   "execution_count": null,
   "metadata": {},
   "outputs": [],
   "source": [
    "def create_max(num, k):\n",
    "    \"\"\"Create maximum number with k digits.\"\"\"\n",
    "    # your code here\n",
    "\n",
    "num = '912583'\n",
    "assert create_max(num, 1) == '9'\n",
    "assert create_max(num, 2) == '98'\n",
    "assert create_max(num, 3) == '983'\n",
    "assert create_max(num, 4) == '9583'\n",
    "assert create_max(num, 5) == '92583'\n",
    "print('All passed!')"
   ]
  },
  {
   "cell_type": "markdown",
   "metadata": {},
   "source": [
    "## Orange Belt\n",
    "*Advanced stuff, certain flexibility of thinking is required*\n",
    "### Linked Lists\n",
    "These tend to be trickier than they seem.\n",
    "\n",
    "First, reverse a linked list iteratively, in place."
   ]
  },
  {
   "cell_type": "code",
   "execution_count": null,
   "metadata": {},
   "outputs": [],
   "source": [
    "class ListNode(object):\n",
    "    def __init__(self, x):\n",
    "        self.val = x\n",
    "        self.next = None\n",
    "        \n",
    "    def __str__(self): # for your debugging purposes\n",
    "        return str(self.val) + '->' + str(self.next)\n",
    "    \n",
    "    def __eq__(self, other): # for asserts to work\n",
    "            return (isinstance(other, self.__class__) \n",
    "                and self.__dict__ == other.__dict__)\n",
    "        \n",
    "def reverse_list(head):\n",
    "    \"\"\"Iterative solution.\"\"\"\n",
    "    # your code here\n",
    "\n",
    "head = ListNode(1)\n",
    "rev = ListNode(1)\n",
    "assert reverse_list(head) == head\n",
    "\n",
    "head = ListNode(1)\n",
    "head.next = ListNode(2)\n",
    "rev = ListNode(2)\n",
    "rev.next = ListNode(1)\n",
    "assert reverse_list(head) == rev\n",
    "\n",
    "head = ListNode(1)\n",
    "head.next = ListNode(2)\n",
    "head.next.next = ListNode(3)\n",
    "rev = ListNode(3)\n",
    "rev.next = ListNode(2)\n",
    "rev.next.next = ListNode(1)\n",
    "assert reverse_list(head) == rev\n",
    "print('All passed!')"
   ]
  },
  {
   "cell_type": "markdown",
   "metadata": {},
   "source": [
    "Now, let's do the same, only this time recursively."
   ]
  },
  {
   "cell_type": "code",
   "execution_count": null,
   "metadata": {},
   "outputs": [],
   "source": [
    "class ListNode(object):\n",
    "    def __init__(self, x):\n",
    "        self.val = x\n",
    "        self.next = None\n",
    "        \n",
    "    def __str__(self): # for your debugging purposes\n",
    "        return str(self.val) + '->' + str(self.next)\n",
    "    \n",
    "    def __eq__(self, other): # for asserts to work\n",
    "            return (isinstance(other, self.__class__) \n",
    "                and self.__dict__ == other.__dict__)\n",
    "        \n",
    "def reverse_list(head, prev=None):\n",
    "    \"\"\"Recursive solution.\"\"\"\n",
    "    # your code here\n",
    "\n",
    "head = ListNode(1)\n",
    "rev = ListNode(1)\n",
    "assert reverse_list(head) == head\n",
    "\n",
    "head = ListNode(1)\n",
    "head.next = ListNode(2)\n",
    "rev = ListNode(2)\n",
    "rev.next = ListNode(1)\n",
    "assert reverse_list(head) == rev\n",
    "\n",
    "head = ListNode(1)\n",
    "head.next = ListNode(2)\n",
    "head.next.next = ListNode(3)\n",
    "rev = ListNode(3)\n",
    "rev.next = ListNode(2)\n",
    "rev.next.next = ListNode(1)\n",
    "assert reverse_list(head) == rev\n",
    "print('All passed!')"
   ]
  },
  {
   "cell_type": "markdown",
   "metadata": {},
   "source": [
    "### Maximum Profit\n",
    "Given stock prices list, find maximum profit possible. You can buy and sell multiple times, but you can't hold more than one share at a time. Hint: the solution is really simple, but it's not easy to figure it out - go over some custom test cases by hand and try to see a pattern."
   ]
  },
  {
   "cell_type": "code",
   "execution_count": null,
   "metadata": {},
   "outputs": [],
   "source": [
    "def max_profit(prices):\n",
    "    \"\"\"Find maximum profit possible.\"\"\"\n",
    "    # your code here\n",
    "\n",
    "assert max_profit([]) == 0\n",
    "assert max_profit([100]) == 0\n",
    "assert max_profit([1,6,5,2,8,1,4,5]) == 15\n",
    "assert max_profit(range(100, 0, -1)) == 0\n",
    "print('All passed')"
   ]
  },
  {
   "cell_type": "markdown",
   "metadata": {},
   "source": [
    "## Green Belt\n",
    "*You'll be a black belt soon enough*\n",
    "### List Subsets\n",
    "Find all possible subsets of a list (or all possible sets of characters contained in a string)."
   ]
  },
  {
   "cell_type": "code",
   "execution_count": null,
   "metadata": {},
   "outputs": [],
   "source": [
    "def subsets(s):\n",
    "    \"\"\"Find all possible subsets of a list.\"\"\"\n",
    "    # your code here\n",
    "\n",
    "assert subsets('') == [[]]\n",
    "# please note, inputs 'abc' and ['a', 'b', 'c'] should be equivalent for your function\n",
    "assert subsets('abc') == [[],['a'],['b'],['a','b'],['c'],['a','c'],['b','c'],['a','b','c']]\n",
    "assert subsets(['a','b','c']) == [[],['a'],['b'],['a','b'],['c'],['a','c'],['b','c'],['a','b','c']]\n",
    "print('All passed!')"
   ]
  },
  {
   "cell_type": "markdown",
   "metadata": {},
   "source": [
    "### String Permutations\n",
    "Find all possible permutations of a string."
   ]
  },
  {
   "cell_type": "code",
   "execution_count": null,
   "metadata": {},
   "outputs": [],
   "source": [
    "def string_permutations(s):\n",
    "    \"\"\"Find all possible permutations of a string.\"\"\"\n",
    "    # your code here\n",
    "\n",
    "assert string_permutations('') == ['']\n",
    "assert string_permutations('abc') == ['abc','acb','bac','bca','cab','cba']\n",
    "print('All passed!')"
   ]
  },
  {
   "cell_type": "markdown",
   "metadata": {},
   "source": [
    "## Blue Belt\n",
    "*With great power comes great responsibility*"
   ]
  },
  {
   "cell_type": "markdown",
   "metadata": {},
   "source": [
    "### Implement Quicksort"
   ]
  },
  {
   "cell_type": "code",
   "execution_count": null,
   "metadata": {},
   "outputs": [],
   "source": [
    "def quicksort(nums):\n",
    "    \"\"\"Quicksort using last element as pivot.\"\"\"\n",
    "    # your code here\n",
    "    \n",
    "a = [2, 9, 2, 3, 5, 8, 1]\n",
    "quicksort(a)\n",
    "assert a == [1, 2, 2, 3, 5, 8, 9]\n",
    "print('All passed!')"
   ]
  },
  {
   "cell_type": "markdown",
   "metadata": {},
   "source": [
    "### Implement Mergesort"
   ]
  },
  {
   "cell_type": "code",
   "execution_count": null,
   "metadata": {},
   "outputs": [],
   "source": [
    "def mergesort(nums):\n",
    "    \"\"\"Mergesort.\"\"\"\n",
    "    # your code here\n",
    "    \n",
    "a = [2, 9, 2, 3, 5, 8, 1]\n",
    "assert mergesort(a) == [1, 2, 2, 3, 5, 8, 9]\n",
    "print('All passed!')"
   ]
  },
  {
   "cell_type": "markdown",
   "metadata": {},
   "source": [
    "### Find shortest path in undirected graph\n",
    "Given a graph *g* represented as adjacency list and nodes *u* and *v*, find shortest path between *u* and *v*."
   ]
  },
  {
   "cell_type": "code",
   "execution_count": null,
   "metadata": {},
   "outputs": [],
   "source": [
    "def shortest_path(g, u, v):\n",
    "    \"\"\"Find shortest path between u and v in g.\"\"\"\n",
    "    # your code here\n",
    "\n",
    "assert shortest_path({'a': ['a']}, 'a', 'a') == ['a']\n",
    "assert shortest_path({'a': [], 'b': []}, 'a', 'b') == -1\n",
    "graph = {'a': ['b'], 'b': ['a', 'c', 'd'], 'c': ['b', 'd', 'e'], 'd': ['b', 'c', 'f'], \n",
    "     'e': ['c', 'f', 'g'], 'f': ['d', 'e', 'g'], 'g': ['e', 'f']}\n",
    "start = 'a'\n",
    "end = 'g'\n",
    "assert len(shortest_path(graph, start, end)) == 5\n",
    "print('All passed!')"
   ]
  },
  {
   "cell_type": "markdown",
   "metadata": {},
   "source": [
    "## Red and Black belts\n",
    "Implementing your own hash table, heap, caching algorithms and more fun coming soon..."
   ]
  }
 ],
 "metadata": {
  "anaconda-cloud": {},
  "kernelspec": {
   "display_name": "Python 3",
   "language": "python",
   "name": "python3"
  },
  "language_info": {
   "codemirror_mode": {
    "name": "ipython",
    "version": 3
   },
   "file_extension": ".py",
   "mimetype": "text/x-python",
   "name": "python",
   "nbconvert_exporter": "python",
   "pygments_lexer": "ipython3",
   "version": "3.7.4"
  }
 },
 "nbformat": 4,
 "nbformat_minor": 1
}
