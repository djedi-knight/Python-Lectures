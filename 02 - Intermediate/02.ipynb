{
 "cells": [
  {
   "cell_type": "markdown",
   "metadata": {},
   "source": [
    "# 2. Using the Python Interpreter"
   ]
  },
  {
   "cell_type": "markdown",
   "metadata": {},
   "source": [
    "The following was inspired by: https://docs.python.org/3/tutorial/interpreter.html"
   ]
  },
  {
   "cell_type": "markdown",
   "metadata": {},
   "source": [
    "**NOTE:** Some of the interactive inputs have an `!` at the beginning.  This is so that IPython will execute it as if it were a shell command."
   ]
  },
  {
   "cell_type": "markdown",
   "metadata": {},
   "source": [
    "**NOTE:** `python<version>` is used in this documentation, as it is dependant on the Python version in use.\n",
    "E.g. if you are using Python 3.8, you would use `python3.8`"
   ]
  },
  {
   "cell_type": "markdown",
   "metadata": {},
   "source": [
    "## 2.1. Invoking the Interpreter"
   ]
  },
  {
   "cell_type": "markdown",
   "metadata": {},
   "source": [
    "The Python interpreter is usually installed as `/usr/local/bin/python<version>` on those machines where it is available; putting `/usr/local/bin` in your Unix shell’s search path makes it possible to start it by typing the command:\n",
    "\n",
    "    python<version>\n",
    "\n",
    "to the shell. Since the choice of the directory where the interpreter lives is an installation option, other places are possible; check with your local Python guru or system administrator. (E.g., `/usr/local/python` is a popular alternative location.)\n",
    "\n",
    "On Windows machines where you have installed Python from the [Microsoft Store](https://docs.python.org/3/using/windows.html#windows-store), the `python<version>` command will be available. If you have the `py.exe` launcher installed, you can use the `py` command. See [Excursus: Setting environment variables](https://docs.python.org/3/using/windows.html#setting-envvars) for other ways to launch Python.\n",
    "\n",
    "Typing an end-of-file character (**Control-D** on Unix, **Control-Z** on Windows) at the primary prompt causes the interpreter to exit with a zero exit status. If that doesn’t work, you can exit the interpreter by typing the following command: `quit()`.\n",
    "\n",
    "The interpreter’s line-editing features include interactive editing, history substitution and code completion on systems that support the [GNU Readline](https://tiswww.case.edu/php/chet/readline/rltop.html) library. Perhaps the quickest check to see whether command line editing is supported is typing **Control-P** to the first Python prompt you get. If it beeps, you have command line editing; see Appendix [Interactive Input Editing and History Substitution](https://docs.python.org/3/tutorial/interactive.html#tut-interacting) for an introduction to the keys. If nothing appears to happen, or if `^P` is echoed, command line editing isn’t available; you’ll only be able to use backspace to remove characters from the current line.\n",
    "\n",
    "The interpreter operates somewhat like the Unix shell: when called with standard input connected to a tty device, it reads and executes commands interactively; when called with a file name argument or with a file as standard input, it reads and executes a *script* from that file.\n",
    "\n",
    "A second way of starting the interpreter is python -c command [arg] ..., which executes the statement(s) in command, analogous to the shell’s [-c](https://docs.python.org/3/using/cmdline.html#cmdoption-c) option. Since Python statements often contain spaces or other characters that are special to the shell, it is usually advised to quote command in its entirety with single quotes.\n",
    "\n",
    "Some Python modules are also useful as scripts. These can be invoked using\n",
    "\n",
    "    python -m module [arg] ...\n",
    "\n",
    "which executes the source file for *module* as if you had spelled out its full name on the command line.\n",
    "\n",
    "When a script file is used, it is sometimes useful to be able to run the script and enter interactive mode afterwards. This can be done by passing [-i](https://docs.python.org/3/using/cmdline.html#cmdoption-i) before the script.\n",
    "\n",
    "All command line options are described in [Command line and environment](https://docs.python.org/3/using/cmdline.html#using-on-general)."
   ]
  },
  {
   "cell_type": "markdown",
   "metadata": {},
   "source": [
    "### 2.1.1. Argument Passing"
   ]
  },
  {
   "cell_type": "markdown",
   "metadata": {},
   "source": [
    "When known to the interpreter, the script name and additional arguments thereafter are turned into a list of strings and assigned to the `argv` variable in the `sys` module.\n",
    "\n",
    "You can access this list by executing: "
   ]
  },
  {
   "cell_type": "code",
   "execution_count": null,
   "metadata": {},
   "outputs": [],
   "source": [
    "import sys"
   ]
  },
  {
   "cell_type": "markdown",
   "metadata": {},
   "source": [
    "The length of the list is at least one;"
   ]
  },
  {
   "cell_type": "code",
   "execution_count": null,
   "metadata": {},
   "outputs": [],
   "source": [
    "sys.argv"
   ]
  },
  {
   "cell_type": "markdown",
   "metadata": {},
   "source": [
    "when no script and no arguments are given, `sys.argv[0]` is an empty string. When the script name is given as `'-'` (meaning standard input), `sys.argv[0]` is set to `'-'`. When [-c](https://docs.python.org/3/using/cmdline.html#cmdoption-c) *command* is used, `sys.argv[0]` is set to `'-c'`. When [-m](https://docs.python.org/3/using/cmdline.html#cmdoption-m) module is used, `sys.argv[0]` is set to the full name of the located module. Options found after [-c](https://docs.python.org/3/using/cmdline.html#cmdoption-c) command or [-m](https://docs.python.org/3/using/cmdline.html#cmdoption-m) module are not consumed by the Python interpreter’s option processing but left in `sys.argv` for the command or module to handle."
   ]
  },
  {
   "cell_type": "markdown",
   "metadata": {},
   "source": [
    "### 2.1.2. Interactive Mode"
   ]
  },
  {
   "cell_type": "markdown",
   "metadata": {},
   "source": [
    "When commands are read from a tty, the interpreter is said to be in *interactive mode*. In this mode it prompts for the next command with the primary prompt, usually three greater-than signs `>>>`; for continuation lines it prompts with the *secondary prompt*, by default three dots `...`. The interpreter prints a welcome message stating its version number and a copyright notice before printing the first prompt:\n",
    "\n",
    "    $ python3.8\n",
    "    Python 3.8 (default, Sep 16 2015, 09:25:04)\n",
    "    [GCC 4.8.2] on linux\n",
    "    Type \"help\", \"copyright\", \"credits\" or \"license\" for more information.\n",
    "    >>>\n",
    "\n",
    "Continuation lines are needed when entering a multi-line construct. As an example, take a look at this [if](https://docs.python.org/3/reference/compound_stmts.html#if) statement:\n",
    "\n",
    "    >>> the_world_is_flat = True\n",
    "    >>> if the_world_is_flat:\n",
    "    ...     print(\"Be careful not to fall off!\")\n",
    "    ...\n",
    "    Be careful not to fall off!\n",
    "\n",
    "For more on interactive mode, see [Interactive Mode](https://docs.python.org/3/tutorial/appendix.html#tut-interac)."
   ]
  },
  {
   "cell_type": "markdown",
   "metadata": {},
   "source": [
    "## 2.2. The Interpreter and Its Environment"
   ]
  },
  {
   "cell_type": "markdown",
   "metadata": {},
   "source": [
    "### 2.2.1. Source Code Encoding"
   ]
  },
  {
   "cell_type": "markdown",
   "metadata": {},
   "source": [
    "By default, Python source files are treated as encoded in UTF-8. In that encoding, characters of most languages in the world can be used simultaneously in string literals, identifiers and comments — although the standard library only uses ASCII characters for identifiers, a convention that any portable code should follow. To display all these characters properly, your editor must recognize that the file is UTF-8, and it must use a font that supports all the characters in the file.\n",
    "\n",
    "To declare an encoding other than the default one, a special comment line should be added as the first line of the file. The syntax is as follows:\n",
    "\n",
    "    # -*- coding: encoding -*-\n",
    "\n",
    "where encoding is one of the valid `codecs` supported by Python.\n",
    "\n",
    "For example, to declare that Windows-1252 encoding is to be used, the first line of your source code file should be:\n",
    "\n",
    "    # -*- coding: cp1252 -*-\n",
    "\n",
    "One exception to the first line rule is when the source code starts with a [UNIX “shebang” line](https://docs.python.org/3/tutorial/appendix.html#tut-scripts). In this case, the encoding declaration should be added as the second line of the file. For example:\n",
    "\n",
    "    #!/usr/bin/env python3\n",
    "    # -*- coding: cp1252 -*-"
   ]
  }
 ],
 "metadata": {
  "kernelspec": {
   "display_name": "Python 3",
   "language": "python",
   "name": "python3"
  },
  "language_info": {
   "codemirror_mode": {
    "name": "ipython",
    "version": 3
   },
   "file_extension": ".py",
   "mimetype": "text/x-python",
   "name": "python",
   "nbconvert_exporter": "python",
   "pygments_lexer": "ipython3",
   "version": "3.7.4"
  }
 },
 "nbformat": 4,
 "nbformat_minor": 2
}
