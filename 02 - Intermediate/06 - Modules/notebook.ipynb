{
 "cells": [
  {
   "cell_type": "markdown",
   "metadata": {},
   "source": [
    "# 6. Modules"
   ]
  },
  {
   "cell_type": "markdown",
   "metadata": {},
   "source": [
    "The following was inspired by: https://docs.python.org/3/tutorial/modules.html"
   ]
  },
  {
   "cell_type": "markdown",
   "metadata": {},
   "source": [
    "**NOTE:** Some of the interactive inputs have an `!` at the beginning.  This is so that IPython will execute it as if it were a shell command."
   ]
  },
  {
   "cell_type": "markdown",
   "metadata": {},
   "source": [
    "If you quit from the Python interpreter and enter it again, the definitions you have made (functions and variables) are lost. Therefore, if you want to write a somewhat longer program, you are better off using a text editor to prepare the input for the interpreter and running it with that file as input instead. This is known as creating a *script*. As your program gets longer, you may want to split it into several files for easier maintenance. You may also want to use a handy function that you've written in several programs without copying its definition into each program.\n",
    "\n",
    "To support this, Python has a way to put definitions in a file and use them in a script or in an interactive instance of the interpreter. Such a file is called a *module*; definitions from a module can be *imported* into other modules or into the *main* module (the collection of variables that you have access to in a script executed at the top level and in calculator mode).\n",
    "\n",
    "A module is a file containing Python definitions and statements. The file name is the module name with the suffix `.py` appended. Within a module, the module's name (as a string) is available as the value of the global variable `__name__`. For instance, a file called `fibo.py` has been created with the following contents:\n",
    "\n",
    "    # Fibonacci numbers module\n",
    "\n",
    "    def fib(n):    # write Fibonacci series up to n\n",
    "        a, b = 0, 1\n",
    "        while a < n:\n",
    "            print(a, end=' ')\n",
    "            a, b = b, a+b\n",
    "        print()\n",
    "\n",
    "    def fib2(n):   # return Fibonacci series up to n\n",
    "        result = []\n",
    "        a, b = 0, 1\n",
    "        while a < n:\n",
    "            result.append(a)\n",
    "            a, b = b, a+b\n",
    "        return result\n",
    "\n",
    "Now enter the Python interpreter and import this module with the following command:"
   ]
  },
  {
   "cell_type": "code",
   "execution_count": null,
   "metadata": {},
   "outputs": [],
   "source": [
    "import fibo"
   ]
  },
  {
   "cell_type": "markdown",
   "metadata": {},
   "source": [
    "This does not enter the names of the functions defined in `fibo` directly in the current symbol table; it only enters the module name `fibo` there. Using the module name you can access the functions:"
   ]
  },
  {
   "cell_type": "code",
   "execution_count": null,
   "metadata": {},
   "outputs": [],
   "source": [
    "fibo.fib(1000)"
   ]
  },
  {
   "cell_type": "code",
   "execution_count": null,
   "metadata": {},
   "outputs": [],
   "source": [
    "fibo.fib2(100)"
   ]
  },
  {
   "cell_type": "code",
   "execution_count": null,
   "metadata": {},
   "outputs": [],
   "source": [
    "fibo.__name__"
   ]
  },
  {
   "cell_type": "markdown",
   "metadata": {},
   "source": [
    "If you intend to use a function often you can assign it to a local name:"
   ]
  },
  {
   "cell_type": "code",
   "execution_count": null,
   "metadata": {},
   "outputs": [],
   "source": [
    "fib = fibo.fib\n",
    "fib(500)"
   ]
  },
  {
   "cell_type": "markdown",
   "metadata": {},
   "source": [
    "## 6.1. More on Modules"
   ]
  },
  {
   "cell_type": "markdown",
   "metadata": {},
   "source": [
    "A module can contain executable statements as well as function definitions. These statements are intended to initialize the module. They are executed only the *first* time the module name is encountered in an import statement. (They are also run if the file is executed as a script.)\n",
    "\n",
    "Each module has its own private symbol table, which is used as the global symbol table by all functions defined in the module. Thus, the author of a module can use global variables in the module without worrying about accidental clashes with a user's global variables.\n",
    "\n",
    "On the other hand, if you know what you're doing, you can touch a module's global variables with the same notation used to refer to its functions, `modname.itemname`.\n",
    "\n",
    "Modules can import other modules. It is customary but not required to place all [import](https://docs.python.org/3/reference/simple_stmts.html#import) statements at the beginning of a module (or script, for that matter). The imported module names are placed in the importing module's global symbol table.\n",
    "\n",
    "There is a variant of the [import](https://docs.python.org/3/reference/simple_stmts.html#import) statement that imports names from a module directly into the importing module's symbol table. For example:"
   ]
  },
  {
   "cell_type": "code",
   "execution_count": null,
   "metadata": {},
   "outputs": [],
   "source": [
    "from fibo import fib\n",
    "fib(500)"
   ]
  },
  {
   "cell_type": "markdown",
   "metadata": {},
   "source": [
    "This does not introduce the module name from which the imports are taken in the local symbol table (so in the example, `fibo` is not defined).\n",
    "\n",
    "There is even a variant to import all names that a module defines:"
   ]
  },
  {
   "cell_type": "code",
   "execution_count": null,
   "metadata": {},
   "outputs": [],
   "source": [
    "from fibo import *\n",
    "fib(500)"
   ]
  },
  {
   "cell_type": "markdown",
   "metadata": {},
   "source": [
    "This imports all names except those beginning with an underscore `_`. In most cases, Python programmers do not use this facility since it introduces an unknown set of names into the interpreter, possibly hiding some things you have already defined.\n",
    "\n",
    "Note that in general the practice of importing `*` from a module or package is frowned upon, since it often causes poorly readable code. However, it is okay to use it to save typing in interactive sessions such as this.\n",
    "\n",
    "If the module name is followed by `as`, then the name following `as` is bound directly to the imported module:"
   ]
  },
  {
   "cell_type": "code",
   "execution_count": null,
   "metadata": {},
   "outputs": [],
   "source": [
    "import fibo as fib\n",
    "fib.fib(500)"
   ]
  },
  {
   "cell_type": "markdown",
   "metadata": {},
   "source": [
    "This is effectively importing the module in the same way that `import fibo` will do, with the only difference of it being available as `fibfns`.\n",
    "\n",
    "It can also be used when utilizing [from](https://docs.python.org/3/reference/simple_stmts.html#from) with similar effects:"
   ]
  },
  {
   "cell_type": "code",
   "execution_count": null,
   "metadata": {},
   "outputs": [],
   "source": [
    "from fibo import fib as fibonacci\n",
    "fibonacci(500)"
   ]
  },
  {
   "cell_type": "markdown",
   "metadata": {},
   "source": [
    "### 6.1.1. Executing modules as scripts"
   ]
  },
  {
   "cell_type": "markdown",
   "metadata": {},
   "source": [
    "When you run a Python module with:\n",
    "\n",
    "    python <file_name>.py <arguments>\n",
    "\n",
    "the code in the module will be executed, just as if you imported it, but with the `__name__` set to `\"__main__\"`.\n",
    "That means that by adding this code at the end of your module:\n",
    "\n",
    "    if __name__ == \"__main__\":\n",
    "        import sys\n",
    "        fib(int(sys.argv[1]))\n",
    "\n",
    "you can make the file usable as a script as well as an importable module, because the code that parses the command line only runs if the module is executed as the \"main\" file:"
   ]
  },
  {
   "cell_type": "code",
   "execution_count": null,
   "metadata": {},
   "outputs": [],
   "source": [
    "!python fibo.py 50"
   ]
  },
  {
   "cell_type": "markdown",
   "metadata": {},
   "source": [
    "This is often used either to provide a convenient user interface to a module, or for testing purposes (running the module as a script executes a test suite)."
   ]
  },
  {
   "cell_type": "markdown",
   "metadata": {},
   "source": [
    "### 6.1.2. The Module Search Path"
   ]
  },
  {
   "cell_type": "markdown",
   "metadata": {},
   "source": [
    "If a module named `spam` is imported, the interpreter first searches for a built-in module with that name. If not found, it then searches for a file named `spam.py` in a list of directories given by the variable [sys.path](https://docs.python.org/3/library/sys.html#sys.path). \n",
    "\n",
    "[sys.path](https://docs.python.org/3/library/sys.html#sys.path) is initialized from these locations:\n",
    "\n",
    "* The directory containing the input script (or the current directory when no file is specified).\n",
    "* [PYTHONPATH](https://docs.python.org/3/using/cmdline.html#envvar-PYTHONPATH) (a list of directory names, with the same syntax as the shell variable `PATH`).\n",
    "* The installation-dependent default.\n",
    "\n",
    "After initialization, Python programs can modify [sys.path](https://docs.python.org/3/library/sys.html#sys.path). The directory containing the script being run is placed at the beginning of the search path, ahead of the standard library path. This means that scripts in that directory will be loaded instead of modules of the same name in the library directory. This is an error unless the replacement is intended. See section [Standard Modules](https://docs.python.org/3/tutorial/modules.html#tut-standardmodules) for more information."
   ]
  },
  {
   "cell_type": "markdown",
   "metadata": {},
   "source": [
    "### 6.1.3. \"Compiled\" Python files"
   ]
  },
  {
   "cell_type": "markdown",
   "metadata": {},
   "source": [
    "To speed up loading modules, Python caches the compiled version of each module in the `__pycache__` directory under the name `module.version.pyc`, where the version encodes the format of the compiled file; it generally contains the Python version number. For example, in CPython release 3.3 the compiled version of `spam.py` would be cached as `__pycache__/spam.cpython-33.pyc`. This naming convention allows compiled modules from different releases and different versions of Python to coexist.\n",
    "\n",
    "Python checks the modification date of the source against the compiled version to see if it’s out of date and needs to be recompiled. This is a completely automatic process. Also, the compiled modules are platform-independent, so the same library can be shared among systems with different architectures.\n",
    "\n",
    "Python does not check the cache in two circumstances. First, it always recompiles and does not store the result for the module that’s loaded directly from the command line. Second, it does not check the cache if there is no source module. To support a non-source (compiled only) distribution, the compiled module must be in the source directory, and there must not be a source module.\n",
    "\n",
    "Some tips for experts:\n",
    "\n",
    "* You can use the [-O](https://docs.python.org/3/using/cmdline.html#cmdoption-o) or [-OO](https://docs.python.org/3/using/cmdline.html#cmdoption-oo) switches on the Python command to reduce the size of a compiled module. The `-O` switch removes assert statements, the `-OO` switch removes both assert statements and `__doc__` strings. Since some programs may rely on having these available, you should only use this option if you know what you're doing. \"Optimized\" modules have an `opt-` tag and are usually smaller. Future releases may change the effects of optimization.\n",
    "* A program doesn't run any faster when it is read from a `.pyc` file than when it is read from a `.py` file; the only thing that's faster about `.pyc` files is the speed with which they are loaded.\n",
    "* The module [compileall](https://docs.python.org/3/library/compileall.html#module-compileall) can create `.pyc` files for all modules in a directory.\n",
    "* There is more detail on this process, including a flow chart of the decisions, in [PEP 3147](https://www.python.org/dev/peps/pep-3147)."
   ]
  },
  {
   "cell_type": "markdown",
   "metadata": {},
   "source": [
    "## 6.2. Standard Modules"
   ]
  },
  {
   "cell_type": "markdown",
   "metadata": {},
   "source": [
    "Python comes with a library of standard modules, described in a separate document, the Python Library Reference (\"Library Reference\" hereafter).\n",
    "\n",
    "Some modules are built into the interpreter; these provide access to operations that are not part of the core of the language but are nevertheless built in, either for efficiency or to provide access to operating system primitives such as system calls.\n",
    "\n",
    "The set of such modules is a configuration option which also depends on the underlying platform. For example, the [winreg](https://docs.python.org/3/library/winreg.html#module-winreg) module is only provided on Windows systems.\n",
    "\n",
    "One particular module deserves some attention: [sys](https://docs.python.org/3/library/sys.html#module-sys), which is built into every Python interpreter and notebook. The variables `sys.ps1` and `sys.ps2` define the strings used as primary and secondary prompts"
   ]
  },
  {
   "cell_type": "code",
   "execution_count": null,
   "metadata": {},
   "outputs": [],
   "source": [
    "import sys"
   ]
  },
  {
   "cell_type": "code",
   "execution_count": null,
   "metadata": {},
   "outputs": [],
   "source": [
    "sys.ps1"
   ]
  },
  {
   "cell_type": "code",
   "execution_count": null,
   "metadata": {},
   "outputs": [],
   "source": [
    "sys.ps2"
   ]
  },
  {
   "cell_type": "markdown",
   "metadata": {},
   "source": [
    "These two variables are only defined if the interpreter or notebook is in interactive mode.\n",
    "\n",
    "The variable `sys.path` is a list of strings that determines the interpreter's search path for modules. It is initialized to a default path taken from the environment variable [PYTHONPATH](https://docs.python.org/3/using/cmdline.html#envvar-PYTHONPATH), or from a built-in default if [PYTHONPATH](https://docs.python.org/3/using/cmdline.html#envvar-PYTHONPATH) is not set. You can modify it using standard list operations:\n",
    "\n",
    "    import sys\n",
    "    sys.path.append('/path/to/other/modules')"
   ]
  },
  {
   "cell_type": "markdown",
   "metadata": {},
   "source": [
    "## 6.3. The dir() Function"
   ]
  },
  {
   "cell_type": "markdown",
   "metadata": {},
   "source": [
    "The built-in function [dir()](https://docs.python.org/3/library/functions.html#dir) is used to find out which names a module defines. It returns a sorted list of strings:"
   ]
  },
  {
   "cell_type": "code",
   "execution_count": null,
   "metadata": {},
   "outputs": [],
   "source": [
    "import fibo, sys"
   ]
  },
  {
   "cell_type": "code",
   "execution_count": null,
   "metadata": {},
   "outputs": [],
   "source": [
    "dir(fibo)"
   ]
  },
  {
   "cell_type": "code",
   "execution_count": null,
   "metadata": {},
   "outputs": [],
   "source": [
    "dir(sys)"
   ]
  },
  {
   "cell_type": "code",
   "execution_count": null,
   "metadata": {},
   "outputs": [],
   "source": [
    "import fibo\n",
    "a = [1, 2, 3, 4, 5]\n",
    "fib = fibo.fib\n",
    "dir()"
   ]
  },
  {
   "cell_type": "markdown",
   "metadata": {},
   "source": [
    "Note that it lists all types of names: variables, modules, functions, etc.\n",
    "\n",
    "[dir()](https://docs.python.org/3/library/functions.html#dir) does not list the names of built-in functions and variables. If you want a list of those, they are defined in the standard module [builtins](https://docs.python.org/3/library/builtins.html#module-builtins):"
   ]
  },
  {
   "cell_type": "code",
   "execution_count": null,
   "metadata": {},
   "outputs": [],
   "source": [
    "import builtins\n",
    "dir(builtins)"
   ]
  },
  {
   "cell_type": "markdown",
   "metadata": {},
   "source": [
    "## 6.4. Packages"
   ]
  },
  {
   "cell_type": "markdown",
   "metadata": {},
   "source": [
    "Packages are a way of structuring Python's module namespace by using \"dotted module names\". For example, the module name `A.B` designates a submodule named `B` in a package named `A`.\n",
    "\n",
    "Just like the use of modules saves the authors of different modules from having to worry about each other’s global variable names, the use of dotted module names saves the authors of multi-module packages like `NumPy` or `Pillow` from having to worry about each other’s module names.\n",
    "\n",
    "Suppose you want to design a collection of modules (a **“package”**) for the uniform handling of sound files and sound data. There are many different sound file formats (usually recognized by their extension, for example: `.wav`, `.aiff`, `.au`), so you may need to create and maintain a growing collection of modules for the conversion between the various file formats. There are also many different operations you might want to perform on sound data (such as mixing, adding echo, applying an equalizer function, creating an artificial stereo effect), so in addition you will be writing a never-ending stream of modules to perform these operations.\n",
    "\n",
    "Here’s a possible structure for your package (expressed in terms of a hierarchical filesystem):\n",
    "\n",
    "    sound/                          Top-level package\n",
    "          __init__.py               Initialize the sound package\n",
    "          formats/                  Subpackage for file format conversions\n",
    "                  __init__.py\n",
    "                  wavread.py\n",
    "                  wavwrite.py\n",
    "                  aiffread.py\n",
    "                  aiffwrite.py\n",
    "                  auread.py\n",
    "                  auwrite.py\n",
    "                  ...\n",
    "          effects/                  Subpackage for sound effects\n",
    "                  __init__.py\n",
    "                  echo.py\n",
    "                  surround.py\n",
    "                  reverse.py\n",
    "                  ...\n",
    "          filters/                  Subpackage for filters\n",
    "                  __init__.py\n",
    "                  equalizer.py\n",
    "                  vocoder.py\n",
    "                  karaoke.py\n",
    "                  ...\n",
    "\n",
    "When importing the package, Python searches through the directories on `sys.path` looking for the package subdirectory.\n",
    "\n",
    "The `__init__.py` files are required to make Python treat directories containing the file as packages. This prevents directories with a common name, such as string, unintentionally hiding valid modules that occur later on the module search path. In the simplest case, `__init__.py` can just be an empty file, but it can also execute initialization code for the package or set the `__all__` variable, described later.\n",
    "\n",
    "Users of the package can import individual modules from the package, for example:\n",
    "\n",
    "    import sound.effects.echo\n",
    "\n",
    "This loads the submodule `sound.effects.echo`. It must be referenced with its full name:\n",
    "\n",
    "    sound.effects.echo.echofilter(input, output, delay=0.7, atten=4)\n",
    "\n",
    "An alternative way of importing the submodule is:\n",
    "\n",
    "    from sound.effects import echo\n",
    "\n",
    "This also loads the submodule `echo`, and makes it available without its package prefix, so it can be used as follows:\n",
    "\n",
    "    echo.echofilter(input, output, delay=0.7, atten=4)\n",
    "\n",
    "Yet another variation is to import the desired function or variable directly:\n",
    "\n",
    "    from sound.effects.echo import echofilter\n",
    "\n",
    "Again, this loads the submodule `echo`, but this makes its function `echofilter()` directly available:\n",
    "\n",
    "    echofilter(input, output, delay=0.7, atten=4)\n",
    "\n",
    "Note that when using `from package import item`, the item can be either a submodule (or subpackage) of the package, or some other name defined in the package, like a function, class or variable. The `import` statement first tests whether the item is defined in the package; if not, it assumes it is a module and attempts to load it. If it fails to find it, an [ImportError](https://docs.python.org/3/library/exceptions.html#ImportError) exception is raised.\n",
    "\n",
    "Contrarily, when using syntax like `import item.subitem.subsubitem`, each item except for the last must be a package; the last item can be a module or a package but can't be a class or function or variable defined in the previous item."
   ]
  },
  {
   "cell_type": "markdown",
   "metadata": {},
   "source": [
    "### 6.4.1. Importing * From a Package"
   ]
  },
  {
   "cell_type": "markdown",
   "metadata": {},
   "source": [
    "Now what happens when the user writes `from sound.effects import *`? Ideally, one would hope that this somehow goes out to the filesystem, finds which submodules are present in the package, and imports them all. This could take a long time and importing sub-modules might have unwanted side-effects that should only happen when the sub-module is explicitly imported.\n",
    "\n",
    "The only solution is for the package author to provide an explicit index of the package. The [import](https://docs.python.org/3/reference/simple_stmts.html#import) statement uses the following convention: if a package's `__init__.py` code defines a list named `__all__`, it is taken to be the list of module names that should be imported when `from package import *` is encountered. It is up to the package author to keep this list up-to-date when a new version of the package is released.\n",
    "\n",
    "Package authors may also decide not to support it, if they don't see a use for importing * from their package. For example, the file `sound/effects/__init__.py` could contain the following code:\n",
    "\n",
    "    __all__ = [\"echo\", \"surround\", \"reverse\"]\n",
    "\n",
    "This would mean that `from sound.effects import *` would import the three named submodules of the `sound` package.\n",
    "\n",
    "If `__all__` is not defined, the statement `from sound.effects import *` does not import all submodules from the package `sound.effects` into the current namespace; it only ensures that the package `sound.effects` has been imported (possibly running any initialization code in `__init__.py`) and then imports whatever names are defined in the package. This includes any names defined (and submodules explicitly loaded) by `__init__.py`. It also includes any submodules of the package that were explicitly loaded by previous [import](https://docs.python.org/3/reference/simple_stmts.html#import) statements. Consider this code:\n",
    "\n",
    "    import sound.effects.echo\n",
    "    import sound.effects.surround\n",
    "    from sound.effects import *\n",
    "\n",
    "In this example, the `echo` and surround modules are imported in the current namespace because they are defined in the `sound.effects` package when the `from sound.effects import *` statement is executed. (This also works when `__all__` is defined.)\n",
    "\n",
    "Although certain modules are designed to export only names that follow certain patterns when you use `import *`, it is still considered bad practice in production code.\n",
    "\n",
    "Remember, there is nothing wrong with using `from package import specific_submodule`! In fact, this is the recommended notation unless the importing module needs to use submodules with the same name from different packages."
   ]
  },
  {
   "cell_type": "markdown",
   "metadata": {},
   "source": [
    "### 6.4.2. Intra-package References"
   ]
  },
  {
   "cell_type": "markdown",
   "metadata": {},
   "source": [
    "When packages are structured into subpackages (as with the sound package in the example), you can use absolute imports to refer to submodules of siblings packages. For example, if the module `sound.filters.vocoder` needs to use the `echo` module in the `sound.effects` package, it can use `from sound.effects import echo`.\n",
    "\n",
    "You can also write relative imports, with the `from <module> import <name>` form of import statement. These imports use leading dots to indicate the current and parent packages involved in the relative import. From the `surround` module, for example, you might use:\n",
    "\n",
    "    from . import echo\n",
    "    from .. import formats\n",
    "    from ..filters import equalizer\n",
    "\n",
    "Note that relative imports are based on the name of the current module. Since the name of the main module is always `\"__main__\"`, modules intended for use as the main module of a Python application must always use absolute imports."
   ]
  },
  {
   "cell_type": "markdown",
   "metadata": {},
   "source": [
    "### 6.4.3. Packages in Multiple Directories"
   ]
  },
  {
   "cell_type": "markdown",
   "metadata": {},
   "source": [
    "Packages support one more special attribute, [__path__](https://docs.python.org/3/reference/import.html#__path__). This is initialized to be a list containing the name of the directory holding the package's `__init__.py` before the code in that file is executed. This variable can be modified; doing so affects future searches for modules and subpackages contained in the package.\n",
    "\n",
    "While this feature is not often needed, it can be used to extend the set of modules found in a package."
   ]
  }
 ],
 "metadata": {
  "kernelspec": {
   "display_name": "Python 3",
   "language": "python",
   "name": "python3"
  },
  "language_info": {
   "codemirror_mode": {
    "name": "ipython",
    "version": 3
   },
   "file_extension": ".py",
   "mimetype": "text/x-python",
   "name": "python",
   "nbconvert_exporter": "python",
   "pygments_lexer": "ipython3",
   "version": "3.7.4"
  }
 },
 "nbformat": 4,
 "nbformat_minor": 2
}
